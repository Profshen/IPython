{
 "metadata": {
  "name": "",
  "signature": "sha256:d65e0fa2c6fe454b260c485162eaa0de2cfd3ab329788e68386a8929120b8b80"
 },
 "nbformat": 3,
 "nbformat_minor": 0,
 "worksheets": [
  {
   "cells": [
    {
     "cell_type": "code",
     "collapsed": false,
     "input": [
      "# encoding = utf-8\n",
      "import jieba"
     ],
     "language": "python",
     "metadata": {},
     "outputs": [],
     "prompt_number": 1
    },
    {
     "cell_type": "code",
     "collapsed": false,
     "input": [
      "seg_list = jieba.cut(\"\u6211\u6765\u81ea\u4e2d\u56fd\u4f20\u5a92\u5927\u5b66\uff0c\u8d1f\u8d23\u8c03\u67e5\u7edf\u8ba1\u7814\u7a76\u6240\uff0c\u6211\u662f\u6240\u957f\uff0c\u5a92\u8c03\", cut_all = True)\n",
      "print \"Full Mode:\", \"/\".join(seg_list)\n",
      "\n",
      "seg_list = jieba.cut(\"\u6211\u6765\u81ea\u4e2d\u56fd\u4f20\u5a92\u5927\u5b66\uff0c\u8d1f\u8d23\u8c03\u67e5\u7edf\u8ba1\u7814\u7a76\u6240\uff0c\u6211\u662f\u6240\u957f\uff0c\u5a92\u8c03\", cut_all=False)\n",
      "print \"Default Mode:\", \"/ \".join(seg_list)  # \u7cbe\u786e\u6a21\u5f0f\n",
      "\n",
      "seg_list = jieba.cut(\"\u6211\u6765\u81ea\u4e2d\u56fd\u4f20\u5a92\u5927\u5b66\uff0c\u8d1f\u8d23\u8c03\u67e5\u7edf\u8ba1\u7814\u7a76\u6240\uff0c\u6211\u662f\u6240\u957f\uff0c\u5a92\u8c03\")  # \u9ed8\u8ba4\u662f\u7cbe\u786e\u6a21\u5f0f\n",
      "print \", \".join(seg_list)\n",
      "\n",
      "seg_list = jieba.cut_for_search(\"\u6211\u6765\u81ea\u4e2d\u56fd\u4f20\u5a92\u5927\u5b66\uff0c\u8d1f\u8d23\u8c03\u67e5\u7edf\u8ba1\u7814\u7a76\u6240\uff0c\u6211\u662f\u6240\u957f\uff0c\u5a92\u8c03\")  # \u641c\u7d22\u5f15\u64ce\u6a21\u5f0f\n",
      "print \", \".join(seg_list)"
     ],
     "language": "python",
     "metadata": {},
     "outputs": [
      {
       "output_type": "stream",
       "stream": "stdout",
       "text": [
        "Full Mode: \u6211/\u6765\u81ea/\u4e2d\u56fd/\u4e2d\u56fd\u4f20\u5a92/\u4f20\u5a92/\u4f20\u5a92\u5927\u5b66/\u5927\u5b66///\u8d1f\u8d23/\u8c03\u67e5/\u7edf\u8ba1/\u7814\u7a76/\u7814\u7a76\u6240///\u6211/\u662f/\u6240\u957f///\u5a92/\u8c03\n",
        "Default Mode: \u6211/ \u6765\u81ea/ \u4e2d\u56fd/ \u4f20\u5a92\u5927\u5b66/ \uff0c/ \u8d1f\u8d23/ \u8c03\u67e5/ \u7edf\u8ba1/ \u7814\u7a76\u6240/ \uff0c/ \u6211/ \u662f/ \u6240\u957f/ \uff0c/ \u5a92\u8c03\n",
        "\u6211, \u6765\u81ea, \u4e2d\u56fd, \u4f20\u5a92\u5927\u5b66, \uff0c, \u8d1f\u8d23, \u8c03\u67e5, \u7edf\u8ba1, \u7814\u7a76\u6240, \uff0c, \u6211, \u662f, \u6240\u957f, \uff0c, \u5a92\u8c03\n",
        "\u6211, \u6765\u81ea, \u4e2d\u56fd, \u4f20\u5a92, \u5927\u5b66, \u4f20\u5a92\u5927\u5b66, \uff0c, \u8d1f\u8d23, \u8c03\u67e5, \u7edf\u8ba1, \u7814\u7a76, \u7814\u7a76\u6240, \uff0c, \u6211, \u662f, \u6240\u957f, \uff0c, \u5a92\u8c03\n"
       ]
      }
     ],
     "prompt_number": 7
    },
    {
     "cell_type": "code",
     "collapsed": false,
     "input": [
      "print type(seg_list)"
     ],
     "language": "python",
     "metadata": {},
     "outputs": [
      {
       "output_type": "stream",
       "stream": "stdout",
       "text": [
        "<type 'generator'>\n"
       ]
      }
     ],
     "prompt_number": 6
    },
    {
     "cell_type": "code",
     "collapsed": false,
     "input": [
      "import jieba.posseg as pseg\n",
      "words = pseg.cut(\"\u6211\u6765\u81ea\u4e2d\u56fd\u4f20\u5a92\u5927\u5b66\uff0c\u6211\u559c\u6b22\u6570\u636e\u6316\u6398\uff0c\u4e91\u8ba1\u7b97\u548c\u7a7a\u95f4\u5730\u7406\u5206\u6790\uff0c\u53ef\u89c6\u5316\u7814\u7a76\")"
     ],
     "language": "python",
     "metadata": {},
     "outputs": [],
     "prompt_number": 8
    },
    {
     "cell_type": "code",
     "collapsed": false,
     "input": [
      "print type(words)"
     ],
     "language": "python",
     "metadata": {},
     "outputs": [
      {
       "output_type": "stream",
       "stream": "stdout",
       "text": [
        "<type 'generator'>\n"
       ]
      }
     ],
     "prompt_number": 9
    },
    {
     "cell_type": "code",
     "collapsed": false,
     "input": [
      "for w in words:\n",
      "    print w.word, w.flag"
     ],
     "language": "python",
     "metadata": {},
     "outputs": [
      {
       "output_type": "stream",
       "stream": "stdout",
       "text": [
        " \u6765\u81ea v\n",
        "\u4e2d\u56fd ns\n",
        "\u4f20\u5a92\u5927\u5b66 n\n",
        "\uff0c x\n",
        "\u6211 r\n",
        "\u559c\u6b22 v\n",
        "\u6570\u636e\u6316\u6398 n\n",
        "\uff0c x\n",
        "\u4e91 ns\n",
        "\u8ba1\u7b97 v\n",
        "\u548c c\n",
        "\u7a7a\u95f4 n\n",
        "\u5730\u7406\u5206\u6790 l\n",
        "\uff0c x\n",
        "\u53ef\u89c6\u5316 n\n",
        "\u7814\u7a76 vn\n"
       ]
      }
     ],
     "prompt_number": 13
    },
    {
     "cell_type": "code",
     "collapsed": false,
     "input": [
      "result = jieba.tokenize(u'\u6765\u81ea\u4e2d\u56fd\u4f20\u5a92\u5927\u5b66\uff0c\u6211\u559c\u6b22\u6570\u636e\u6316\u6398\uff0c\u4e91\u8ba1\u7b97\u548c\u7a7a\u95f4\u5730\u7406\u5206\u6790\uff0c\u53ef\u89c6\u5316\u7814\u7a76')\n",
      "for tk in result:\n",
      "    print \"word:%s\\t\\t start:%d\\t\\t end:%d\" %(tk[0],tk[1],tk[2])"
     ],
     "language": "python",
     "metadata": {},
     "outputs": [
      {
       "output_type": "stream",
       "stream": "stdout",
       "text": [
        "word:\u6765\u81ea\t\t start:0\t\t end:2\n",
        "word:\u4e2d\u56fd\t\t start:2\t\t end:4\n",
        "word:\u4f20\u5a92\u5927\u5b66\t\t start:4\t\t end:8\n",
        "word:\uff0c\t\t start:8\t\t end:9\n",
        "word:\u6211\t\t start:9\t\t end:10\n",
        "word:\u559c\u6b22\t\t start:10\t\t end:12\n",
        "word:\u6570\u636e\u6316\u6398\t\t start:12\t\t end:16\n",
        "word:\uff0c\t\t start:16\t\t end:17\n",
        "word:\u4e91\t\t start:17\t\t end:18\n",
        "word:\u8ba1\u7b97\t\t start:18\t\t end:20\n",
        "word:\u548c\t\t start:20\t\t end:21\n",
        "word:\u7a7a\u95f4\t\t start:21\t\t end:23\n",
        "word:\u5730\u7406\u5206\u6790\t\t start:23\t\t end:27\n",
        "word:\uff0c\t\t start:27\t\t end:28\n",
        "word:\u53ef\u89c6\u5316\t\t start:28\t\t end:31\n",
        "word:\u7814\u7a76\t\t start:31\t\t end:33\n"
       ]
      }
     ],
     "prompt_number": 16
    },
    {
     "cell_type": "code",
     "collapsed": false,
     "input": [
      "result = jieba.tokenize(u'\u6765\u81ea\u4e2d\u56fd\u4f20\u5a92\u5927\u5b66\uff0c\u6211\u559c\u6b22\u6570\u636e\u6316\u6398\uff0c\u4e91\u8ba1\u7b97\u548c\u7a7a\u95f4\u5730\u7406\u5206\u6790\uff0c\u53ef\u89c6\u5316\u7814\u7a76',mode='search')\n",
      "for tk in result:\n",
      "    print \"word:%s\\t\\t start:%d\\t\\t end:%d\" %(tk[0],tk[1],tk[2])"
     ],
     "language": "python",
     "metadata": {},
     "outputs": [
      {
       "output_type": "stream",
       "stream": "stdout",
       "text": [
        "word:\u6765\u81ea\t\t start:0\t\t end:2\n",
        "word:\u4e2d\u56fd\t\t start:2\t\t end:4\n",
        "word:\u4f20\u5a92\t\t start:4\t\t end:6\n",
        "word:\u5927\u5b66\t\t start:6\t\t end:8\n",
        "word:\u4f20\u5a92\u5927\u5b66\t\t start:4\t\t end:8\n",
        "word:\uff0c\t\t start:8\t\t end:9\n",
        "word:\u6211\t\t start:9\t\t end:10\n",
        "word:\u559c\u6b22\t\t start:10\t\t end:12\n",
        "word:\u6570\u636e\t\t start:12\t\t end:14\n",
        "word:\u6316\u6398\t\t start:14\t\t end:16\n",
        "word:\u6570\u636e\u6316\u6398\t\t start:12\t\t end:16\n",
        "word:\uff0c\t\t start:16\t\t end:17\n",
        "word:\u4e91\t\t start:17\t\t end:18\n",
        "word:\u8ba1\u7b97\t\t start:18\t\t end:20\n",
        "word:\u548c\t\t start:20\t\t end:21\n",
        "word:\u7a7a\u95f4\t\t start:21\t\t end:23\n",
        "word:\u5730\u7406\t\t start:23\t\t end:25\n",
        "word:\u5206\u6790\t\t start:25\t\t end:27\n",
        "word:\u5730\u7406\u5206\u6790\t\t start:23\t\t end:27\n",
        "word:\uff0c\t\t start:27\t\t end:28\n",
        "word:\u53ef\u89c6\t\t start:28\t\t end:30\n",
        "word:\u53ef\u89c6\u5316\t\t start:28\t\t end:31\n",
        "word:\u7814\u7a76\t\t start:31\t\t end:33\n"
       ]
      }
     ],
     "prompt_number": 17
    },
    {
     "cell_type": "code",
     "collapsed": false,
     "input": [],
     "language": "python",
     "metadata": {},
     "outputs": []
    }
   ],
   "metadata": {}
  }
 ]
}