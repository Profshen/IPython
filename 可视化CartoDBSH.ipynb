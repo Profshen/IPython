{
 "metadata": {
  "name": "",
  "signature": "sha256:567260cf470183940931503c920c5c59ca4c79114f81328a040c89487eb68ae6"
 },
 "nbformat": 3,
 "nbformat_minor": 0,
 "worksheets": [
  {
   "cells": [
    {
     "cell_type": "code",
     "collapsed": false,
     "input": [
      "%%html\n",
      "<iframe width='100%' height='520' frameborder='0' src='https://d9a.cartodb.com/viz/fe9751f0-6ced-11e4-98f3-0e9d821ea90d/embed_map?__hstc=26280290.aae9fd585c621fab1c439fc5a04e8c08.1423116772746.1423116772746.1423116772746.1&__hssc=26280290.43.1423116772746&__hsfp=1355801091' allowfullscreen webkitallowfullscreen mozallowfullscreen oallowfullscreen msallowfullscreen></iframe>"
     ],
     "language": "python",
     "metadata": {},
     "outputs": [
      {
       "html": [
        "<iframe width='100%' height='520' frameborder='0' src='https://d9a.cartodb.com/viz/fe9751f0-6ced-11e4-98f3-0e9d821ea90d/embed_map?__hstc=26280290.aae9fd585c621fab1c439fc5a04e8c08.1423116772746.1423116772746.1423116772746.1&__hssc=26280290.43.1423116772746&__hsfp=1355801091' allowfullscreen webkitallowfullscreen mozallowfullscreen oallowfullscreen msallowfullscreen></iframe>"
       ],
       "metadata": {},
       "output_type": "display_data",
       "text": [
        "<IPython.core.display.HTML at 0x10d2fe750>"
       ]
      }
     ],
     "prompt_number": 1
    },
    {
     "cell_type": "code",
     "collapsed": false,
     "input": [
      "%%html\n",
      "<iframe width='100%' height='520' frameborder='0' src='http://srogers.cartodb.com/viz/4a5eb582-23ed-11e4-bd6b-0e230854a1cb/embed_map' allowfullscreen webkitallowfullscreen mozallowfullscreen oallowfullscreen msallowfullscreen></iframe>"
     ],
     "language": "python",
     "metadata": {},
     "outputs": [
      {
       "html": [
        "<iframe width='100%' height='520' frameborder='0' src='http://srogers.cartodb.com/viz/4a5eb582-23ed-11e4-bd6b-0e230854a1cb/embed_map' allowfullscreen webkitallowfullscreen mozallowfullscreen oallowfullscreen msallowfullscreen></iframe>"
       ],
       "metadata": {},
       "output_type": "display_data",
       "text": [
        "<IPython.core.display.HTML at 0x10d2fe710>"
       ]
      }
     ],
     "prompt_number": 2
    },
    {
     "cell_type": "code",
     "collapsed": false,
     "input": [
      "%%html\n",
      "<iframe width='100%' height='520' frameborder='0' src='https://kgrady.cartodb.com/viz/145f08ea-5a18-11e4-a486-0e853d047bba/embed_map' allowfullscreen webkitallowfullscreen mozallowfullscreen oallowfullscreen msallowfullscreen></iframe>"
     ],
     "language": "python",
     "metadata": {},
     "outputs": [
      {
       "html": [
        "<iframe width='100%' height='520' frameborder='0' src='https://kgrady.cartodb.com/viz/145f08ea-5a18-11e4-a486-0e853d047bba/embed_map' allowfullscreen webkitallowfullscreen mozallowfullscreen oallowfullscreen msallowfullscreen></iframe>"
       ],
       "metadata": {},
       "output_type": "display_data",
       "text": [
        "<IPython.core.display.HTML at 0x10d2fe690>"
       ]
      }
     ],
     "prompt_number": 3
    },
    {
     "cell_type": "code",
     "collapsed": false,
     "input": [
      "%%html\n",
      "<iframe width='100%' height='520' frameborder='0' src='https://carbz.cartodb.com/viz/37ef637e-9c24-11e4-8850-0e0c41326911/embed_map?__hstc=26280290.aae9fd585c621fab1c439fc5a04e8c08.1423116772746.1423116772746.1423116772746.1&__hssc=26280290.49.1423116772746&__hsfp=1355801091' allowfullscreen webkitallowfullscreen mozallowfullscreen oallowfullscreen msallowfullscreen></iframe>"
     ],
     "language": "python",
     "metadata": {},
     "outputs": [
      {
       "html": [
        "<iframe width='100%' height='520' frameborder='0' src='https://carbz.cartodb.com/viz/37ef637e-9c24-11e4-8850-0e0c41326911/embed_map?__hstc=26280290.aae9fd585c621fab1c439fc5a04e8c08.1423116772746.1423116772746.1423116772746.1&__hssc=26280290.49.1423116772746&__hsfp=1355801091' allowfullscreen webkitallowfullscreen mozallowfullscreen oallowfullscreen msallowfullscreen></iframe>"
       ],
       "metadata": {},
       "output_type": "display_data",
       "text": [
        "<IPython.core.display.HTML at 0x10d2fe810>"
       ]
      }
     ],
     "prompt_number": 4
    },
    {
     "cell_type": "code",
     "collapsed": false,
     "input": [
      "%%html\n",
      "<iframe width='100%' height='520' frameborder='0' src='http://bcl.cartodb.com/viz/195e270c-c1b8-11e3-a215-0e230854a1cb/embed_map?title=true&description=true&search=false&shareable=true&cartodb_logo=true&layer_selector=false&legends=true&scrollwheel=true&fullscreen=true&sublayer_options=1%7C1&sql=SELECT%20*%20FROM%20cities%20where%20ratio%20%3C%201&sw_lat=27.761329874505233&sw_lon=90.4833984375&ne_lat=45.213003555993964&ne_lon=140.4931640625' allowfullscreen webkitallowfullscreen mozallowfullscreen oallowfullscreen msallowfullscreen></iframe>"
     ],
     "language": "python",
     "metadata": {},
     "outputs": [
      {
       "html": [
        "<iframe width='100%' height='520' frameborder='0' src='http://bcl.cartodb.com/viz/195e270c-c1b8-11e3-a215-0e230854a1cb/embed_map?title=true&description=true&search=false&shareable=true&cartodb_logo=true&layer_selector=false&legends=true&scrollwheel=true&fullscreen=true&sublayer_options=1%7C1&sql=SELECT%20*%20FROM%20cities%20where%20ratio%20%3C%201&sw_lat=27.761329874505233&sw_lon=90.4833984375&ne_lat=45.213003555993964&ne_lon=140.4931640625' allowfullscreen webkitallowfullscreen mozallowfullscreen oallowfullscreen msallowfullscreen></iframe>"
       ],
       "metadata": {},
       "output_type": "display_data",
       "text": [
        "<IPython.core.display.HTML at 0x10d2fe790>"
       ]
      }
     ],
     "prompt_number": 5
    },
    {
     "cell_type": "code",
     "collapsed": false,
     "input": [
      "%%html\n",
      "<iframe width=\"100%\" height=\"520\" frameborder=\"0\" src=\"http://www.globalforestwatch.org/embed/map/3/15.00/27.00/ALL/grayscale/loss,forestgain?begin=2001-01-01&end=2013-12-31&threshold=30\"></iframe>"
     ],
     "language": "python",
     "metadata": {},
     "outputs": [
      {
       "html": [
        "<iframe width=\"100%\" height=\"520\" frameborder=\"0\" src=\"http://www.globalforestwatch.org/embed/map/3/15.00/27.00/ALL/grayscale/loss,forestgain?begin=2001-01-01&end=2013-12-31&threshold=30\"></iframe>"
       ],
       "metadata": {},
       "output_type": "display_data",
       "text": [
        "<IPython.core.display.HTML at 0x10d2fe390>"
       ]
      }
     ],
     "prompt_number": 9
    },
    {
     "cell_type": "code",
     "collapsed": false,
     "input": [
      "%%html\n",
      "<iframe width='100%' height='520' frameborder='0' src='http://jcwong86.cartodb.com/viz/6bfb2708-5160-11e3-bdbd-3085a9a9563c/embed_map?title=true&description=true&search=false&shareable=true&cartodb_logo=true&layer_selector=true&legends=true&scrollwheel=true&sublayer_options=1%7C1%7C1&sql=&sw_lat=40.34916067959377&sw_lon=-74.30259704589844&ne_lat=41.26903340788163&ne_lon=-71.66587829589844&__hstc=26280290.aae9fd585c621fab1c439fc5a04e8c08.1423116772746.1423116772746.1423116772746.1&__hssc=26280290.52.1423116772746&__hsfp=1355801091' allowfullscreen webkitallowfullscreen mozallowfullscreen oallowfullscreen msallowfullscreen></iframe>"
     ],
     "language": "python",
     "metadata": {},
     "outputs": [
      {
       "html": [
        "<iframe width='100%' height='520' frameborder='0' src='http://jcwong86.cartodb.com/viz/6bfb2708-5160-11e3-bdbd-3085a9a9563c/embed_map?title=true&description=true&search=false&shareable=true&cartodb_logo=true&layer_selector=true&legends=true&scrollwheel=true&sublayer_options=1%7C1%7C1&sql=&sw_lat=40.34916067959377&sw_lon=-74.30259704589844&ne_lat=41.26903340788163&ne_lon=-71.66587829589844&__hstc=26280290.aae9fd585c621fab1c439fc5a04e8c08.1423116772746.1423116772746.1423116772746.1&__hssc=26280290.52.1423116772746&__hsfp=1355801091' allowfullscreen webkitallowfullscreen mozallowfullscreen oallowfullscreen msallowfullscreen></iframe>"
       ],
       "metadata": {},
       "output_type": "display_data",
       "text": [
        "<IPython.core.display.HTML at 0x10d2fe490>"
       ]
      }
     ],
     "prompt_number": 10
    },
    {
     "cell_type": "code",
     "collapsed": false,
     "input": [
      "%%html\n",
      "<iframe width='100%' height='520' frameborder='0' src='http://srogers.cartodb.com/viz/81916204-c392-11e3-bcbf-0e230854a1cb/embed_map?title=true&description=true&search=true&shareable=true&cartodb_logo=true&layer_selector=false&legends=true&scrollwheel=true&fullscreen=true&sublayer_options=1%7C1&sql&sw_lat=11.821410465077479&sw_lon=60.335443281250036&ne_lat=27.525102650180578&ne_lon=99.93016984375004' allowfullscreen webkitallowfullscreen mozallowfullscreen oallowfullscreen msallowfullscreen></iframe>"
     ],
     "language": "python",
     "metadata": {},
     "outputs": [
      {
       "html": [
        "<iframe width='100%' height='520' frameborder='0' src='http://srogers.cartodb.com/viz/81916204-c392-11e3-bcbf-0e230854a1cb/embed_map?title=true&description=true&search=true&shareable=true&cartodb_logo=true&layer_selector=false&legends=true&scrollwheel=true&fullscreen=true&sublayer_options=1%7C1&sql&sw_lat=11.821410465077479&sw_lon=60.335443281250036&ne_lat=27.525102650180578&ne_lon=99.93016984375004' allowfullscreen webkitallowfullscreen mozallowfullscreen oallowfullscreen msallowfullscreen></iframe>"
       ],
       "metadata": {},
       "output_type": "display_data",
       "text": [
        "<IPython.core.display.HTML at 0x10d2fe450>"
       ]
      }
     ],
     "prompt_number": 12
    },
    {
     "cell_type": "code",
     "collapsed": false,
     "input": [
      "%%html\n",
      "<script type='text/javascript' src='https://public.tableausoftware.com/javascripts/api/viz_v1.js'></script><div class='tableauPlaceholder' style='width: 1304px; height: 4069px;'><noscript><a href='#'><img alt=' ' src='https:&#47;&#47;publicrevizit.tableausoftware.com&#47;static&#47;images&#47;Fo&#47;FortuneGlobal500_0&#47;500&#47;1_rss.png' style='border: none' /></a></noscript><object class='tableauViz' width='1304' height='4069' style='display:none;'><param name='host_url' value='https%3A%2F%2Fpublic.tableausoftware.com%2F' /> <param name='site_root' value='' /><param name='name' value='FortuneGlobal500_0&#47;500' /><param name='tabs' value='no' /><param name='toolbar' value='yes' /><param name='static_image' value='https:&#47;&#47;publicrevizit.tableausoftware.com&#47;static&#47;images&#47;Fo&#47;FortuneGlobal500_0&#47;500&#47;1.png' /> <param name='animate_transition' value='yes' /><param name='display_static_image' value='yes' /><param name='display_spinner' value='yes' /><param name='display_overlay' value='yes' /><param name='display_count' value='yes' /><param name='showVizHome' value='no' /></object></div><div style='width:1304px;height:22px;padding:0px 10px 0px 0px;color:black;font:normal 8pt verdana,helvetica,arial,sans-serif;'><div style='float:right; padding-right:8px;'><a href='http://www.tableausoftware.com/public/about-tableau-products?ref=https://public.tableausoftware.com/views/FortuneGlobal500_0/500' target='_blank'>\u4e86\u89e3\u6709\u5173 Tableau \u7684\u4fe1\u606f</a></div></div>"
     ],
     "language": "python",
     "metadata": {},
     "outputs": [
      {
       "html": [
        "<script type='text/javascript' src='https://public.tableausoftware.com/javascripts/api/viz_v1.js'></script><div class='tableauPlaceholder' style='width: 1304px; height: 4069px;'><noscript><a href='#'><img alt=' ' src='https:&#47;&#47;publicrevizit.tableausoftware.com&#47;static&#47;images&#47;Fo&#47;FortuneGlobal500_0&#47;500&#47;1_rss.png' style='border: none' /></a></noscript><object class='tableauViz' width='1304' height='4069' style='display:none;'><param name='host_url' value='https%3A%2F%2Fpublic.tableausoftware.com%2F' /> <param name='site_root' value='' /><param name='name' value='FortuneGlobal500_0&#47;500' /><param name='tabs' value='no' /><param name='toolbar' value='yes' /><param name='static_image' value='https:&#47;&#47;publicrevizit.tableausoftware.com&#47;static&#47;images&#47;Fo&#47;FortuneGlobal500_0&#47;500&#47;1.png' /> <param name='animate_transition' value='yes' /><param name='display_static_image' value='yes' /><param name='display_spinner' value='yes' /><param name='display_overlay' value='yes' /><param name='display_count' value='yes' /><param name='showVizHome' value='no' /></object></div><div style='width:1304px;height:22px;padding:0px 10px 0px 0px;color:black;font:normal 8pt verdana,helvetica,arial,sans-serif;'><div style='float:right; padding-right:8px;'><a href='http://www.tableausoftware.com/public/about-tableau-products?ref=https://public.tableausoftware.com/views/FortuneGlobal500_0/500' target='_blank'>\u4e86\u89e3\u6709\u5173 Tableau \u7684\u4fe1\u606f</a></div></div>"
       ],
       "metadata": {},
       "output_type": "display_data",
       "text": [
        "<IPython.core.display.HTML at 0x10a154690>"
       ]
      }
     ],
     "prompt_number": 3
    },
    {
     "cell_type": "code",
     "collapsed": false,
     "input": [
      "%%html\n",
      "<script type='text/javascript' src='https://public.tableausoftware.com/javascripts/api/viz_v1.js'></script><div class='tableauPlaceholder' style='width: 904px; height: 745px;'><noscript><a href='#'><img alt=' ' src='https:&#47;&#47;publicrevizit.tableausoftware.com&#47;static&#47;images&#47;St&#47;Storm-Analysis-7_0_5&#47;2005&#47;1_rss.png' style='border: none' /></a></noscript><object class='tableauViz' width='904' height='745' style='display:none;'><param name='host_url' value='https%3A%2F%2Fpublic.tableausoftware.com%2F' /> <param name='site_root' value='' /><param name='name' value='Storm-Analysis-7_0_5&#47;2005' /><param name='tabs' value='yes' /><param name='toolbar' value='yes' /><param name='static_image' value='https:&#47;&#47;publicrevizit.tableausoftware.com&#47;static&#47;images&#47;St&#47;Storm-Analysis-7_0_5&#47;2005&#47;1.png' /> <param name='animate_transition' value='yes' /><param name='display_static_image' value='yes' /><param name='display_spinner' value='yes' /><param name='display_overlay' value='yes' /><param name='display_count' value='yes' /><param name='showVizHome' value='no' /></object></div><div style='width:904px;height:22px;padding:0px 10px 0px 0px;color:black;font:normal 8pt verdana,helvetica,arial,sans-serif;'><div style='float:right; padding-right:8px;'><a href='http://www.tableausoftware.com/public/about-tableau-products?ref=https://public.tableausoftware.com/views/Storm-Analysis-7_0_5/2005' target='_blank'>\u4e86\u89e3\u6709\u5173 BigData</a></div></div>"
     ],
     "language": "python",
     "metadata": {},
     "outputs": [
      {
       "html": [
        "<script type='text/javascript' src='https://public.tableausoftware.com/javascripts/api/viz_v1.js'></script><div class='tableauPlaceholder' style='width: 904px; height: 745px;'><noscript><a href='#'><img alt=' ' src='https:&#47;&#47;publicrevizit.tableausoftware.com&#47;static&#47;images&#47;St&#47;Storm-Analysis-7_0_5&#47;2005&#47;1_rss.png' style='border: none' /></a></noscript><object class='tableauViz' width='904' height='745' style='display:none;'><param name='host_url' value='https%3A%2F%2Fpublic.tableausoftware.com%2F' /> <param name='site_root' value='' /><param name='name' value='Storm-Analysis-7_0_5&#47;2005' /><param name='tabs' value='yes' /><param name='toolbar' value='yes' /><param name='static_image' value='https:&#47;&#47;publicrevizit.tableausoftware.com&#47;static&#47;images&#47;St&#47;Storm-Analysis-7_0_5&#47;2005&#47;1.png' /> <param name='animate_transition' value='yes' /><param name='display_static_image' value='yes' /><param name='display_spinner' value='yes' /><param name='display_overlay' value='yes' /><param name='display_count' value='yes' /><param name='showVizHome' value='no' /></object></div><div style='width:904px;height:22px;padding:0px 10px 0px 0px;color:black;font:normal 8pt verdana,helvetica,arial,sans-serif;'><div style='float:right; padding-right:8px;'><a href='http://www.tableausoftware.com/public/about-tableau-products?ref=https://public.tableausoftware.com/views/Storm-Analysis-7_0_5/2005' target='_blank'>\u4e86\u89e3\u6709\u5173 BigData</a></div></div>"
       ],
       "metadata": {},
       "output_type": "display_data",
       "text": [
        "<IPython.core.display.HTML at 0x10a154450>"
       ]
      }
     ],
     "prompt_number": 4
    },
    {
     "cell_type": "code",
     "collapsed": false,
     "input": [
      "%%html\n",
      "<div>\n",
      "    <a href=\"https://plot.ly/~PatrickMerlot/99/\" target=\"_blank\" title=\"M18 set - KT3X\" style=\"display: block; text-align: center;\"><img src=\"https://plot.ly/~PatrickMerlot/99.png\" alt=\"M18 set - KT3X\" style=\"max-width: 100%;width: 800px;\"  width=\"800\" onerror=\"this.onerror=null;this.src='https://plot.ly/404.png';\" /></a>\n",
      "    <script data-plotly=\"PatrickMerlot:99\" src=\"https://plot.ly/embed.js\" async></script>\n",
      "</div>"
     ],
     "language": "python",
     "metadata": {},
     "outputs": [
      {
       "html": [
        "<div>\n",
        "    <a href=\"https://plot.ly/~PatrickMerlot/99/\" target=\"_blank\" title=\"M18 set - KT3X\" style=\"display: block; text-align: center;\"><img src=\"https://plot.ly/~PatrickMerlot/99.png\" alt=\"M18 set - KT3X\" style=\"max-width: 100%;width: 800px;\"  width=\"800\" onerror=\"this.onerror=null;this.src='https://plot.ly/404.png';\" /></a>\n",
        "    <script data-plotly=\"PatrickMerlot:99\" src=\"https://plot.ly/embed.js\" async></script>\n",
        "</div>"
       ],
       "metadata": {},
       "output_type": "display_data",
       "text": [
        "<IPython.core.display.HTML at 0x10d2fe510>"
       ]
      }
     ],
     "prompt_number": 20
    },
    {
     "cell_type": "code",
     "collapsed": false,
     "input": [
      "%%html\n",
      "<div>\n",
      "    <a href=\"https://plot.ly/~cfif/40/\" target=\"_blank\" title=\"from 0.00 to 0.05 h of reaction\" style=\"display: block; text-align: center;\"><img src=\"https://plot.ly/~cfif/40.png\" alt=\"from 0.00 to 0.05 h of reaction\" style=\"max-width: 100%;width: 700px;\"  width=\"700\" onerror=\"this.onerror=null;this.src='https://plot.ly/404.png';\" /></a>\n",
      "    <script data-plotly=\"cfif:40\" src=\"https://plot.ly/embed.js\" async></script>\n",
      "</div>"
     ],
     "language": "python",
     "metadata": {},
     "outputs": [
      {
       "html": [
        "<div>\n",
        "    <a href=\"https://plot.ly/~cfif/40/\" target=\"_blank\" title=\"from 0.00 to 0.05 h of reaction\" style=\"display: block; text-align: center;\"><img src=\"https://plot.ly/~cfif/40.png\" alt=\"from 0.00 to 0.05 h of reaction\" style=\"max-width: 100%;width: 700px;\"  width=\"700\" onerror=\"this.onerror=null;this.src='https://plot.ly/404.png';\" /></a>\n",
        "    <script data-plotly=\"cfif:40\" src=\"https://plot.ly/embed.js\" async></script>\n",
        "</div>"
       ],
       "metadata": {},
       "output_type": "display_data",
       "text": [
        "<IPython.core.display.HTML at 0x10d2fee10>"
       ]
      }
     ],
     "prompt_number": 21
    },
    {
     "cell_type": "code",
     "collapsed": false,
     "input": [],
     "language": "python",
     "metadata": {},
     "outputs": []
    }
   ],
   "metadata": {}
  }
 ]
}